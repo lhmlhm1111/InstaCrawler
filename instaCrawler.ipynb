{
 "cells": [
  {
   "cell_type": "code",
   "execution_count": 35,
   "metadata": {},
   "outputs": [],
   "source": [
    "from selenium import webdriver\n",
    "from bs4 import BeautifulSoup\n",
    "import time"
   ]
  },
  {
   "cell_type": "code",
   "execution_count": 102,
   "metadata": {},
   "outputs": [],
   "source": [
    "class InstaCrawling:\n",
    "    def __init__(self):\n",
    "        self.driver = webdriver.Chrome(\"./myChrome/chromedriver.exe\")\n",
    "        self.url = \"https://www.instagram.com/?hl=ko\"\n",
    "        \n",
    "        self.driver.get(url)\n",
    "        \n",
    "    def login(self, ID, Password):\n",
    "        self.ID = ID\n",
    "        self.Password = Password\n",
    "        \n",
    "        facebook_login=self.driver.find_element_by_css_selector(\"button.sqdOP.yWX7d.y3zKF\")\n",
    "        facebook_login.click()\n",
    "        \n",
    "        input_id=self.driver.find_elements_by_css_selector(\"input.inputtext._55r1.inputtext._1kbt.inputtext._1kbt\")[0]\n",
    "        input_id.clear()\n",
    "        input_id.send_keys(self.ID)\n",
    "        \n",
    "        input_password=self.driver.find_elements_by_css_selector(\"input.inputtext._55r1.inputtext._1kbt.inputtext._1kbt\")[1]\n",
    "        input_password.clear()\n",
    "        input_password.send_keys(self.Password)\n",
    "        \n",
    "        login_button = self.driver.find_element_by_css_selector(\"button._42ft._4jy0._52e0._4jy6._4jy1.selected._51sy\")\n",
    "        login_button.click()\n",
    "        \n",
    "    def crawling(self, keyword, num):\n",
    "        self.keyword = keyword\n",
    "        self.num = num\n",
    "        self.url=f\"https://www.instagram.com/explore/tags/{self.keyword}\"\n",
    "        \n",
    "        self.driver.get(self.url)\n",
    "        time.sleep(4)\n",
    "        self.driver.find_element_by_css_selector(\"div._9AhH0\").click()\n",
    "        time.sleep(4)\n",
    "        \n",
    "        self.data_list = []\n",
    "        \n",
    "        for _ in range(self.num):\n",
    "            self.html = self.driver.page_source\n",
    "            self.soup = BeautifulSoup(self.html, \"lxml\")\n",
    "            try:\n",
    "                self.content = self.soup.select(\"div.C4VMK > span\")[0].text\n",
    "            except:\n",
    "                self.content = \" \"\n",
    "            \n",
    "            self.data_list.append(self.content)\n",
    "            \n",
    "            self.driver.find_element_by_css_selector(\"a._65Bje.coreSpriteRightPaginationArrow\").click()\n",
    "            \n",
    "            time.sleep(4)\n",
    "\n",
    "        return self.data_list"
   ]
  },
  {
   "cell_type": "code",
   "execution_count": 99,
   "metadata": {},
   "outputs": [],
   "source": [
    "insta = InstaCrawling(url)"
   ]
  },
  {
   "cell_type": "code",
   "execution_count": 100,
   "metadata": {},
   "outputs": [],
   "source": [
    "insta.login(\"lhmlhm1111@naver.com\", \"dhy01147!!\")"
   ]
  },
  {
   "cell_type": "code",
   "execution_count": 101,
   "metadata": {},
   "outputs": [
    {
     "data": {
      "text/plain": [
       "['irene chamisul cf stay legendary till today💓 Do likes my recent luvies 💓—☆ — ☆ — ☆ — ☆ — ☆ —Tag me if repost my edit 🍬 Follow me @seulgidiary for RV stuff 🍬 🏷 tags :#RedVelvet #레드벨벳 #Seulgi #슬기 #Joy #조이 #Irene #아이린 #Wendy #웬디 #Yeri #예리 #SMTOWN #RV #Reveluv',\n",
       " 'taste 😏💓 Do likes my recent luvies 💓—☆ — ☆ — ☆ — ☆ — ☆ —Tag me if repost my edit 🍬 Follow me @seulgidiary for RV stuff 🍬 🏷 tags :#RedVelvet #레드벨벳 #Seulgi #슬기 #Joy #조이 #Irene #아이린 #Wendy #웬디 #Yeri #예리 #SMTOWN #RV #Reveluv',\n",
       " 'HAIR OWO#RedVelvet - #Seulgi 🐻.. . #kpopfanart #fanart #art #drawing #sketch #draw #redvelvetfanart #rvfanart #kangseulgi #reveluv #레드벨벳 #슬기 #강슬기 #레베럽 #팬아트 #Psycho',\n",
       " '我也想被🐻抱緊處理🥺Precious Bear hug 🤗 #레드벨벳 #강슬기 #슬기 #seulgibear #kangseulgi #seulgi #세상귀여움 #우젤귀 #吃可愛長大的🐻#康瑟琪 #슬기와함께 #cutestbearever #瑟琪',\n",
       " '#🐰🐻💖在談👌🏻-Cr.揾唔返嗰出處🙇🏻\\u200d♀️#RedVelvet #redvelvethk #irene #seulgi #레드벨벳 #아이린\\xa0#슬기\\xa0#裴柱現 #姜澀琪 #🐰🐻 #seulrene',\n",
       " 'cutie pie💓 Do likes my recent luvies 💓—☆ — ☆ — ☆ — ☆ — ☆ —Tag me if repost my edit 🍬 Follow me @seulgidiary for RV stuff 🍬 🏷 tags :#RedVelvet #레드벨벳 #Seulgi #슬기 #Joy #조이 #Irene #아이린 #Wendy #웬디 #Yeri #예리 #SMTOWN #RV #Reveluv',\n",
       " 'lovin how they all hold onto seulgi 💛💓 Do likes my recent luvies 💓—☆ — ☆ — ☆ — ☆ — ☆ —Tag me if repost my edit 🍬 Follow me @seulgidiary for RV stuff 🍬 🏷 tags :#RedVelvet #레드벨벳 #Seulgi #슬기 #Joy #조이 #Irene #아이린 #Wendy #웬디 #Yeri #예리 #SMTOWN #RV #Reveluv',\n",
       " \"✨ I'm a little monster ✨-------#IRENE #SEULGI #RedVelvetFanart#아이린 #슬기 #레드벨벳 #RedVelvet\",\n",
       " 'best visual ✨💓 Do likes my recent luvies 💓—☆ — ☆ — ☆ — ☆ — ☆ —Tag me if repost my edit 🍬 Follow me @seulgidiary for RV stuff 🍬 🏷 tags :#RedVelvet #레드벨벳 #Seulgi #슬기 #Joy #조이 #Irene #아이린 #Wendy #웬디 #Yeri #예리 #SMTOWN #RV #Reveluv',\n",
       " 'Remember this moment? 😆#seulgi #kangseulgiredvelvet #kangseulgi #seulgiredvelvet #seulgiredvelvet #redvelvetseulgı #redvelvetseulgi #redvelvetseulgi💛 #redvelvetkangseulgi #cuteseulgi #seulgicute #seulgipics #seulgiphotos #seulgibear #seulgibear🐻 #seulgiday #seulgibearday #smtown #smentertainment #redvelvet #강슬기 #강슬기💛 #강슬기🐻 #슬기 #레드벨벳 #levelupproject #seulgithecutestbear',\n",
       " \"tiny baechu 🥺💗___♡___official ig : @redvelvet.smtownstream 'psycho' & 'monster' on youtube💕_______#yeri #irene #joy #seulgi #wendy #redvelvetvideos #kangseulgi #레베럽 #에리 #아이린 #조이 #슬기 #웬디#레드벨벳 #baejoohyun #parksooyoung #reveluv #sonseungwan #smtown\",\n",
       " 'Yeri 🐢 IG Story update 200810 #repost #redvelvet #kimyerim #yeri #maknae #레드벨벳 #redvelvet #irene #seulgi #wendy #joy #yeri #아이린 #슬기 #웬디 #조이 #예리',\n",
       " '슬기(SEUGLI) & 아이린(IRENE) - 놀이(NAUGHTY) 안무 DANCE COVER (DUET Ver.) [와와댄스 마포본점]와와댄스의 자랑 두학생의 멋진 놀이안무커버 영상20.08.10(월) PM 6:00 오픈할예정이오니 많은 관심부탁드립니다~[와와댄스 NAVER CAFE]cafe.naver.com/wawaschool [와와댄스 facebook]검색창 (와와댄스 아카데미 마포본점) [와와댄스 YOUTUBE CHANNEL]www.youtube.com/WAWADANCEACADEMY [WAWADANCE instagram]www.instagram.com/wawadance [ROOKIE instagram]www.instagram.com/wawarookie역시나 춤은 와와댄스♡문의) 02-713-9008#춤스타그램 #댄스타그램 #방송댄스 #케이팝댄스 #커버댄스 #kpopdance #coverdance #kpopcoverdance #kpop #Korea #wawadance #wawadanceacademy #마포댄스학원 #마포역 #아이린 #슬기 #아이린슬기 #놀이 #아이린슬기놀이안무 #irene #seugli #naughty #ireneseuglinaughtydance #andy #ROOKIE #영상촬영class #koreandancer #korean #와와댄스아카데미',\n",
       " '아슬아슬😈⠀⠀⠀⠀⠀⠀#배주현 #강슬기 #레드벨벳 #아이린 #슬기 #아슬아슬 #몬스터 #😈 #아이린슬기 #팬아트 #손그림 #그림스타그램 #취미미술 #인물화 #색연필그림 #프리즈마 #프리즈마색연필 #baejuhyun #kangseulgi #redvelvet #irene #seulgi #monster #ireneseulgi #fanart #drawing #handdrawing #portrait #colorpencil #prismacolor',\n",
       " 'She looks so fluffy 😍...(Credits to the owner of this photo or video)...#redvelvet #redvelvetedit #redvelvetkpop #redvelvetsmtown #레드벨벳 #irene #redvelvetirene #baeirene #ireneredvelvet #아이린 #seulgi #redvelvetseulgi #seulgiredvelvet #슬기 #kangseulgi #wendy #sonseungwan #redvelvetwendy #웬디 #wendyredvelvet #joy #sooyoung #parksooyoung #redvelvetjoy #조이 #yeri #yerim #kimyerim #redvelvetyeri #예리',\n",
       " 'that time when seulgi post this pictures with caption : working hard on something\" all luvies is going crazy thinking its for seulgi solo 😁 now we know its for irene seulgi album 😊 and seulgi said she participated in giving idea for design, outfit, make up 😊 our hardworking baby gigirseulgi 💛 @hi_sseulgi#redvelvet #redvelvetseulgi #kangseulgi #seulgi #kpop #reveluv #seulgiredvelvet #sm #smentertainment#uncover #larouge #monster #naughty #redvelvet_irene_seulgi#레드벨벳슬기 #레드벨벳 #슬기 #강슬기 #슬기레드벨벳 #레드벨벳_아이린_슬기',\n",
       " 'Seulgi mendapatkan popularitas bahkan sebelum debut bersama Red Velvet dan tidak begitu sulit menemukan alasan kenapa ia telah populer sebelum memulai debutnya..Banyak idol K-Pop yang mendapatkan popularitas mereka bahkan sebelum debut. Seulgi Red Velvet misalnya, dan tidak begitu sulit menemukan alasan kenapa ia telah populer sebelum memulai debutnya..Seulgi kini menjadi salah satu idol K-Pop yang dicintai banyak penggemar. Idol kelahiran 1994 itu rupanya sudah populer sejak masih menjadi bagian dari SM Rookies, grup trainee besutan SM Entertainment..Faktor utama yang membuat Seulgi diminati bahkan sebelum debut adalah kecantikan dan auranya yang unik. Penampilannya selama masa trainee membangun ekspektasi dan kekaguman pada saat yang bersamaan. Bisa dilihat dari foto-foto pra debutnya yang baru-baru ini beredar dan menjadi perbincangan di komunitas online..Seulgi juga merupakan idol dengan kecantikan dan visual yang berbeda dari standar standar SM Entertainment, karena ia tidak memiliki kelopak mata ganda. Itulah kenapa kecantikannya begitu unik sebagai artis SM..Selama masa mudanya, kalian dapat melihat bahwa Seulgi begitu cantik. Rekan satu label SM dan seniornya juga telah menyebutkannya sebelumnya di masa lalu selama hari-hari pra-debutnya..Tidak sulit untuk melihat kenapa Seulgi mendapatkan popularitasnya sebelum debut. Bahkan kini ia menjadi salah satu idol dengan visual dan gaya menarik serta memiliki banyak penggemar perempuan..\"Banyak idol cantik tapi visual Seulgi membuat tidak bosan,\" komentar netizen. \"Seulgi sangat cantik sebelum debut. Aku langsung jatuh cinta padanya begitu dia diperkenalkan sebagai anggota SM Rookies,\" tambah netizen. \"Aku sudah mencintai Seulgi sebelum debut dan hingga kini masih menyukainya. Seulgi adalah idol tercantik bagiku,\" pungkas lainnya....Source: Kpopmap, Wowkeren..._Follow @seulgifanpage untuk mendapatkan informasi terupdate dan terkini dari \\'Kang Seulgi\\' 😎__*Thanks to : iridescentjam (twitter) for fanart*_#레드벨벳 #슬기 #RedVelvet #SEULGI#슬기 #seulgibear #redvelvet #wendy #joy #irene #yeri #seulginews #seulgiupdates #seulgiupdate #kangseulgi #seulginator #seulgination #girlgroup #kpopupdate',\n",
       " 'This Seulgi makes me feel something and I’m not sure whatbut it’s warm and fuzzy and the I don’t regret anything kinda feeling ☺️',\n",
       " 'seulgi said she lost her dinosaur griptok 😁 @hi_sseulgi#redvelvet #redvelvetseulgi #kangseulgi #seulgi #kpop #reveluv #seulgiredvelvet #sm #smentertainment#uncover #larouge #monster #naughty #redvelvet_irene_seulgi#레드벨벳슬기 #레드벨벳 #슬기 #강슬기 #슬기레드벨벳 #레드벨벳_아이린_슬기',\n",
       " 'seulgi is 1st female model for converse korea since 2018 till now  always thankful to converse8for choosing seulgi 😊 @hi_sseulgi#redvelvet #redvelvetseulgi #kangseulgi #seulgi #kpop #reveluv #seulgiredvelvet #sm #smentertainment#uncover #larouge #monster #naughty #redvelvet_irene_seulgi#레드벨벳슬기 #레드벨벳 #슬기 #강슬기 #슬기레드벨벳 #레드벨벳_아이린_슬기',\n",
       " 'Cute ya.. Semoga pertemanannya langgeng ya kalian😍😍Yeri bnr2 sifat sosial nya patut diacungi jempol😍😍.. ~ yun#yeri #kimkatty #kimyerim #yeriredvelvet #deardairy #redvelvet #irene #아이린 #seulgi #슬기 #wendy #웬디 #joy #조이 #yeri #예리 #레드벨벳 #김예리 #therevefestival #finaleday #yerimkimkyr #yerifacts #reveluv Cr. Ultseul',\n",
       " \"Seezn preview photos for Yeri's Room next week 💜.Gugucone will be 2 weeks 😊...(Credits to the owner of this photo or video)...#redvelvet #redvelvetedit #redvelvetkpop #redvelvetsmtown #레드벨벳 #irene #redvelvetirene #baeirene #ireneredvelvet #아이린 #seulgi #redvelvetseulgi #seulgiredvelvet #슬기 #kangseulgi #wendy #sonseungwan #redvelvetwendy #웬디 #wendyredvelvet #joy #sooyoung #parksooyoung #redvelvetjoy #조이 #yeri #yerim #kimyerim #redvelvetyeri #예리\",\n",
       " 'You like Joy with bangs or Joy without bangs?💗✨😆I like both😗🤫💗---Cr Pinterest #redvelvet #紅貝貝 #reveluv #smtown #redvelvetluv #rv #irene #wendy #joy #seulgi #yeri #레드벨벳 #아이린 #웬디 #김예림 #조이 #슬기 #레베럽 #sment #baejuhyun #kangseulgi #sonseungwan #monster #redvelvet6thanniversary',\n",
       " '#폴꾸 #태연 #슬기',\n",
       " '純分享🐻💜[#貝貝後宮紀💕]-Wowwww Wuli小姊姊又多了一名情敵🤣❤️期待這兩個變熟😏😏😏wuli熊77很善良而且天真ㅋㅋㅋ😏-Cr.Logo-#redvelvet #reveluv #레드벨벳 #irene #seulgi #wendy #joy # yeri #아이린 #슬기 #웬디 #조이 #예리#배주현 #강슬기 #손승완 #박수영 #김예림',\n",
       " 'she’s a rebel',\n",
       " '- ɢᴀᴍᴇʙᴏʏ ×  sᴇᴜʟɢɪ・・・・・・ʀᴇ-ᴇᴅɪᴛ , ʀᴇ-ᴘǫsᴛ , sᴀʟᴇ ❌#RedVelvet #SEULGI #IRENE #WENDY #JOY #YERI #Zimzalabim #RedVelvet_IRENE_SEULGI #레드벨벳 #아이린 #슬기 #웬디 #조이 #예리 #짐살라빔 #좋아 #좋아요 #좋아요반사 #좋반 #좋아요그램',\n",
       " \"She's so cute 🤭...(Credits to the owner of this photo or video)...#redvelvet #redvelvetedit #redvelvetkpop #redvelvetsmtown #레드벨벳 #irene #redvelvetirene #baeirene #ireneredvelvet #아이린 #seulgi #redvelvetseulgi #seulgiredvelvet #슬기 #kangseulgi #wendy #sonseungwan #redvelvetwendy #웬디 #wendyredvelvet #joy #sooyoung #parksooyoung #redvelvetjoy #조이 #yeri #yerim #kimyerim #redvelvetyeri #예리\",\n",
       " 'Joy being the physical representation of all the Wendy biases this year😂😭......#redvelvet #wendy #seulgi #irene #joy #yeri #reveluv #sonseungwan #kangseulgi #kimyerim #parksooyoung #baejoohyun #kpop #explore #explorepage #레드벨벳 #웬디 #아이린 #슬기 #조이 #예리 #twice #blackpink #exo',\n",
       " \"📷 200810 YERI – with #APRIL's #Naeun & #WekiMeki's #Doyeon for Yeri's Room.📌 Yeri's Room episode with #GuGuCon already available in YouTube.___________#RedVelvet #レドベル #레드벨벳 #irene #baejoohyun #배주현 #seulgi #kangseulgi #슬기 #wendy #sonseungwan #웬디 #joy #박수영 #parksooyoung #yeri #kimyerim #예림 #yerihanbang #yeriroom\",\n",
       " \"My baby has grown up✨✨.Red Velvet - Irene (@renebaebae)..Follow\\xa0@kpopict_girl \\xa0For more  Update😊➖➖➖➖➖➖➖➖➖➖Always Support❤️Repost? Tag\\xa0@kpopict_girl \\xa0on Caption or Post❤️➖➖➖➖➖➖➖➖➖➖Don't Forget :LIKE👍COMMENT💬SHARE🔁FOLLOW 👌➖➖➖➖➖➖➖➖➖➖Tags :#irene #irenebae #ireneredvelvet #irenefancam #ireneedits #irenerp #irenefanbase #goddessirene #irenefashion #irenefanart #redvelvet #레드벨벳 #아이린 #슬기 #baejoohyun #kangseulgi #seulgi #wendy #joy #yeri #reveluv #ไอเด #조이 #배주현 #레베럽 #예리 #styleofirene #therevefestivalday #redvelvetedit #badboy\",\n",
       " '🐻真的不要給我那麼可愛ㅠㅠ今天也是很想念你的一天想到能瘋狂追星的日子剩一個月就🥺（存照片存到眼壓過高）-Cr.DaftTaengk#RedVelvet #레드벨벳 #redvelvetseulgi #redvelvetwendy #Wendy #sonseungwan #seungwan #웬디 #Kangseulgi #강슬기 #Seulgi #슬기 #Irene #아이린 #Joy #조이 #Yeri #예리 #Reveluv #wenseul #seuldy #SMTOWN #SM #Kpop #Girlgroup #kpoplfl #kpopl4l #koreanpop #koreanpop #wenseul #seulrene',\n",
       " 'Ammminnn, tak doain goalsmu yang ini tercapai sayank @hi_sseulgi. Semangat 💪❤_\"I\\'m playing guitar these days. Someday, I want to make a song with my own sentiments. I think it could be a way to find myself. Like, \\'I\\'m thinking this way, I\\'m singing this emotion\\'.\"- SEULGI, Harper\\'s Bazaar Korea May 2015 issue °seulpics..._Follow @seulgifanpage untuk mendapatkan informasi terupdate dan terkini dari \\'Kang Seulgi\\' 😎__*Thanks to : iridescentjam (twitter) for fanart*_#레드벨벳 #슬기 #RedVelvet #SEULGI#슬기 #seulgibear #redvelvet #wendy #joy #irene #yeri #seulginews #seulgiupdates #seulgiupdate #kangseulgi #seulginator #seulgination #girlgroup #kpopupdate #fyikpop #panncafe #faktaredvelvet #faktaseulgi #fyiseulgi #seulgifanpage #スルギ #姜瑟琪 #レッドベルベットスルギ #レッドベルベット#redvelvetseulgi',\n",
       " 'Baeby 🥰...(Credits to the owner of this photo or video)...#redvelvet #redvelvetedit #redvelvetkpop #redvelvetsmtown #레드벨벳 #irene #redvelvetirene #baeirene #ireneredvelvet #아이린 #seulgi #redvelvetseulgi #seulgiredvelvet #슬기 #kangseulgi #wendy #sonseungwan #redvelvetwendy #웬디 #wendyredvelvet #joy #sooyoung #parksooyoung #redvelvetjoy #조이 #yeri #yerim #kimyerim #redvelvetyeri #예리',\n",
       " '😁😄 So cute baby Them 💞💞💜 YERI with #DOYEON & #NAEUN for Yeri’s Room! EP 10-1 ..@redvelvet.smtown@renebaebae @hi_sseulgi @todayis_wendy @_imyour_joy @yerimiese #RedVelvet #レドベル #레드벨벳 #irene #baejoohyun #배주현 #seulgi #kangseulgi #슬기 #wendy #sonseungwan #웬디 #joy #박수영 #parksooyoung #yeri #kimyerim #예리',\n",
       " '- ᴘᴀɪɴᴀᴘᴘʟᴇ ǫᴜᴇᴇɴ 👑・・・・・・・ʀᴇ-ᴇᴅɪᴛ , ʀᴇ-ᴘǫsᴛ , sᴀʟᴇ ❌#RedVelvet #SEULGI #IRENE #WENDY #JOY #YERI #Zimzalabim #RedVelvet_IRENE_SEULGI #레드벨벳 #아이린 #슬기 #웬디 #조이 #예리 #짐살라빔 #좋아 #좋아요 #좋아요반사 #좋반 #좋아요그램',\n",
       " '이제는 하루 바짝 놀면 다음날 몸져눕네.. 즐거웠다.#광란의밤 #정유정 #신들린줄 #슬기 #피리마술사 #뒤꿈치 #아프다고했는데 #나진이 #통금지켜줘 #부탁해',\n",
       " 'Hello this is Kang Seulgi ☺️#seulgi #kangseulgiredvelvet #kangseulgi #seulgiredvelvet #seulgiredvelvet #redvelvetseulgı #redvelvetseulgi #redvelvetseulgi💛 #redvelvetkangseulgi #cuteseulgi #seulgicute #seulgipics #seulgiphotos #seulgibear #seulgibear🐻 #seulgiday #seulgibearday #smtown #smentertainment #redvelvet #강슬기 #강슬기💛 #강슬기🐻 #슬기 #레드벨벳 #seulgithecutestbear',\n",
       " \"🌹 RED VELVET - RED FLAVOR 🌹-I forgot that my dance studio's lights automatically cut off after a while and I got so confused, lol. Anyway, I finally found a studio that I can practice and record in, so here's my very first cover! 🎉 Hopefully, I can put more covers out consistently, so let me know if you have any recommendations! ✨--#redvelvet #redflavor #redvelvetirene #redvelvetseulgi #redvelvetjoy #redvelvetyeri #redvelvetwendy #smentertainment #kpop #kpopdance #kpopdancecover #kpopcover #korean #dancecover #dance #렏드벨벳 #빨간맛 #배주현 #아이린 #강슬기 #슬기 #박수영 #조이 #김예림 #예리 #손승완 #웬디 #서울\",\n",
       " \"It's been 2 years since Converse Korea @converse_kr first posted about @hi_sseulgi #SEULGI #슬기 on their IG (180810)\",\n",
       " 'Level Up @renebaebae x @hi_sseulgi Project @redvelvet.smtown I must be still dreaming 😍#슬기 #강슬기 #레드벨벳 #seulgi #kangseulgi #redvelvet #seulgibear #ddeulgi #瑟琪 #康瑟琪 #红贝贝 #reveluv #reveluvs #irene #baejoohyun#ireneredvelvet #배주현',\n",
       " \"they're so cute 😂 .💜 YERI with #DOYEON & #NAEUN for Yeri’s Room! EP 10-1 ._🎬 https://youtu.be/GWCcPQElNjc 👈 ._______________#RedVelvet #레드벨벳 #Irene #Seulgi #Wendy #Joy #Yeri #kpop #girlgroup #reveluv #レドベル #아이린 #슬기 #웬디 #조이 #예리 #레베럽 #redvelvetirene #redvelvetseulgi #redvelvetwendy #redvelvetjoy #redvelvetyeri #RedVelvet_IRENE_SEULGI #레드벨벳_아이린_슬기 #ReVeluv #Luvie #wekimeki #aprilnaeun\",\n",
       " \"Watch gugucone (99 cone) in Yeri's Room now 💜.They talked about how they became friends 😊...(Credits to the owner of this photo or video)...#redvelvet #redvelvetedit #doyeon #naeun #레드벨벳 #irene #redvelvetirene #baeirene #ireneredvelvet #아이린 #seulgi #redvelvetseulgi #seulgiredvelvet #슬기 #kangseulgi #wendy #sonseungwan #redvelvetwendy #웬디 #wendyredvelvet #joy #sooyoung #parksooyoung #redvelvetjoy #조이 #yeri #yerim #kimyerim #redvelvetyeri #예리\",\n",
       " \"[HD] 180919 - '2018 Dongguk University Festival' ❤️❤️©️owner#redvelvet #Irene #seulgi #wendy #joy #yeri #summermagic #powerup #kpop #smtown #umpahumpah #cookiejar #peekaboo #badboy #russianroulette #icecreamcake #redflavor #rookie #cookiejar #perfectredvelvet #baejuhyun #baechu #baechu🐰 #아이린 #🐇 #레드벨벳 #슬기 #예리 #조이 #웬디\",\n",
       " \"What's your favorite color? 🤔-Been awhile since I did an edit lol-Song: ColorsArtist: Stella Jang\",\n",
       " \"' Naughty ' Dance cover later @ 5pm (PST) 🖤 like my page for updates! 'link on my bio'(@renebaebae @hi_sseulgi @_spella ) #RedVelvet_IRENE_SEULGI #레드벨벳_아이린_슬기 #IRENE #아이린 #SEULGI #슬기 #Monster #놀이 #Naughty #kpopdancecover #kpopdance #kdance #korean #kpopmusic #kdancecover\",\n",
       " '//我只是想說 康澀琪跑步的背影也好可愛喔然後最後結果是第四名呦#redvelvet#reveluv#레드벨벳#레베럽#아이린#슬기#웬디#조이#예리#irene#seulgi#wendy#joy#yeri#배주현#강슬기#손승완#박수영#김예림#5forever#🐰#🐻#🐿#🐤#🐢',\n",
       " '//呵（好煩😂 而且手在幹嘛#redvelvet#reveluv#레드벨벳#레베럽#아이린#슬기#웬디#조이#예리#irene#seulgi#wendy#joy#yeri#배주현#강슬기#손승완#박수영#김예림#5forever#🐰#🐻#🐿#🐤#🐢',\n",
       " '//要給魚吃的麵包 後來進了自己的嘴巴#redvelvet#reveluv#레드벨벳#레베럽#아이린#슬기#웬디#조이#예리#irene#seulgi#wendy#joy#yeri#배주현#강슬기#손승완#박수영#김예림#5forever#🐰#🐻#🐿#🐤#🐢',\n",
       " '⠀\\ufeff\\ufeff\\ufeff* 星熊\\ufeff* 成年禮\\ufeff\\ufeff\\ufeff\\ufeff赤城某家有錢人的女兒舉辦成年派對，請來了不少赤城知名人士，當中讓人為之瘋狂的非文星伊莫屬了，有多少人甘願當舔狗。那是多不勝數的，在文星伊下車的那一瞬間，閃光燈此起彼落，步入會場後，不遠處的身影深深地吸引住文星伊，那便是今夜的派對主角。\\ufeff⠀\\ufeff⠀\\ufeff\\ufeff康家的千金小姐，康瑟琪。\\ufeff\\ufeff\\ufeff\\ufeff「喔莫，星伊姐你來了？」\\ufeff\\ufeff\\ufeff\\ufeff從遠處看到文星伊的丁輝人朝文星伊招了招手後便敷衍地回了酒，豪邁卻不失優雅地走到文星伊面前，康瑟琪也跟著丁輝人走到了身旁，文星伊便開始觀察著她起來了，雖說是單眼皮卻讓人感到意外地好看，獨自在內心感嘆著狼家良好的基因把康瑟琪生得那麼好看，丁輝人察覺到文星伊的異樣。\\ufeff\\ufeff\\ufeff\\ufeff會心一笑地拿了杯雞尾酒給康瑟琪，緩緩地倒了藥粉進去，她緩緩接過後一口喝光了手裡的酒，接著康瑟琪便倒在文星伊的懷裡，文星伊疑惑極了。\\ufeff\\ufeff\\ufeff\\ufeff「哎哎哎輝人，你幹嘛？」\\ufeff\\ufeff\\ufeff\\ufeff「星伊姐我懂你的，我去跟康爸說聲她女兒醉了，沒事的，接住吧，別太用力阿，人家才剛成年呢⋯⋯」\\ufeff\\ufeff\\ufeff\\ufeff文星伊唯有扶著她回到房間，她看了看康瑟琪的房間，酷酷的卻擺著幾隻泰迪熊，忍俊不禁地笑了一聲，康瑟琪感覺渾身燥熱，還沒等文星伊把她放到床上，便摟著她的脖子，吻了起來，一夜纏綿，文星伊走到浴室洗刷後，站在鏡子面前，她意猶未盡地用指腹抹了抹自己的唇瓣。\\ufeff\\ufeff\\ufeff\\ufeff丁輝人也是的，這下子她要怎麼交代？\\ufeff\\ufeff\\ufeff\\ufeff憶起往事，看到懷裡的可人兒，文星伊將她橫抱起後輕放在床上，走到窗邊嘴裡叼著燃點的香菸，吸了一口後又長舒了一口氣，回眸看著床上熟睡的康瑟琪，好好的一個成年禮卻成了這樣子。\\ufeff\\ufeff\\ufeff\\ufeff再看看散落得到處都是的衣物，更是覺得自己糟糕，她可是奪了她的初夜，胡亂的揉了揉自己的頭髮，試圖讓自己讓自己清醒過來，可這卻讓她更加清楚狀況。\\ufeff\\ufeff\\ufeff\\ufeff她非康瑟琪不可了，她要負責，而且是負責到底。\\ufeff\\ufeff\\ufeff\\ufeff突然一陣聲響引起了文星伊的注意，回過神來康瑟琪已經直直的坐在床上，睡眼惺忪地揉了揉自己的腰，棉被覆蓋著上半身只露出肩膀，鎖骨位置一個又一個紅印，這是用多少遮瑕都無法掩蓋的印記，這下更糟糕了，文星伊暗想道。\\ufeff\\ufeff\\ufeff\\ufeff這讓康瑟琪父母知道她把他們女兒吃掉了，那可怎麼辦？腦海裡浮現的畫面盡是慘不忍睹的，文星伊搖了搖頭，康瑟琪迷惑地看著文星伊一系列迷惑的動作，緩緩地將自己的衣服撿起，然後理所當然地穿上後，直徑地走到浴室。\\ufeff\\ufeff\\ufeff\\ufeff從浴室傳來一聲驚呼，文星伊熄滅了手中的香菸後匆匆忙忙地衝進浴室，康瑟琪看著鏡子，鎖骨位上的吻印，支支吾吾地問道，她眉頭緊蹙，突然回想起昨晚的成年趴，丁輝人給了自己一杯雞尾酒，隨後的記憶就斷在這裡了。\\ufeff\\ufeff\\ufeff\\ufeff「我們是不是⋯⋯做了？」\\ufeff\\ufeff\\ufeff\\ufeff文星伊面對這突如其來的問題，她也很難對她開口說，她把她吃乾抹淨，可是回想起康瑟琪在自己身下求饒的模樣，她情不自禁地勾起了一抹笑意，康瑟琪看到文星伊笑成那樣就深知大事不妙了，低著頭眼淚順著臉頰滑落，文星伊驚慌失措地將她摟進懷裡，情不自禁地衝口而出。\\ufeff\\ufeff\\ufeff\\ufeff「我會負責到底的，你放心，我文星伊不是那種吃了不付錢，喔不是，我不會吃了不負責的。」\\ufeff\\ufeff\\ufeff\\ufeff她輕輕的替康瑟琪抹掉眼淚，她們穿好衣服後，卻發現康瑟琪父母就站在房間門口，文星伊頓時慌了，緊緊的牽著康瑟琪的手，誰料到康瑟琪父母笑意盈盈地拍了拍自己的肩膀。\\ufeff\\ufeff\\ufeff\\ufeff「年輕人，我們都懂的，沒有累壞我們家女兒吧⋯⋯」\\ufeff\\ufeff\\ufeff\\ufeff康瑟琪害羞地躲在文星伊身後，文星伊也是笑了笑後，康瑟琪突然走到文星伊面前，敷衍了幾句便把門關起來，文星伊瞄到身下，雙手架在康瑟琪腦袋旁，意味深長地問了句。\\ufeff\\ufeff\\ufeff\\ufeff「女人，所以現在你是在誘惑我嗎？」\\ufeff\\ufeff\\ufeff\\ufeff康瑟琪真的是讓文星伊欲罷不能，纏綿過後繼續纏綿，房間內的嬌喘聲更是聽得人臉紅耳赤，今夜註定不一樣。\\ufeff\\ufeff\\ufeff\\ufeffFIN\\ufeff\\ufeff\\ufeff\\ufeff#mamamooff文 #媽媽木 #文星伊 #moonbyul #문별이 #문별 #redvelvetff文 #紅貝貝 #康瑟琪 #seulgi #강슬기 #슬기 #星熊 #女團cp文 #xiangnian_女團cp文 ⠀',\n",
       " '151128 맑음이 2탄!🥰 #JOY-©Pumpkin, Green Heaven, Film903roll...———————#RedVelvet #Irene #Seulgi #Wendy #Yeri #아이린 #배주현 #슬기 #강슬기 #웬디 #손승완 #조이 #박수영 #예리 #김예림 #레드벨벳 #레드벨벳_아이린_슬기 #ReVeluv #Luvies #레베럽 #Baejuhyun #Kangseulgi #Shonseungwan #Parksooyeong #Kimyerim #RedVelvet_IRENE_SEULGI_Monster#6YearsWithRedVelvet #RedVelvet6thAnniversary #레드벨벳_6주년_대댕큐',\n",
       " '💔💔💔💔💔',\n",
       " 'Kang Seulgi 💛💛💛......#RedVelvet #RV #레드벨벳 #ReVe #Reveluv #Luvies #KPOP #SMTOWN #GirlGroup #Baechu #BaeJooHyun #KangSeulGi #SonSeungWan #ParkSooYoung #KimYeRim #아이린 #슬기 #웬디 #조이 #예리 #Irene #Seulgi #Wendy #Joy #Yeri #seulgiedits',\n",
       " 'joygi ❤️.Follow @sweet.seulgi for more!! ❤️..Tags :#seulgi #redvelvet #irene #wendy #joy #yeri #kpop #reveluv #kangseulgi #parksooyoung #아이린 #kimyerim #baejoohyun #kpopfff #sonseungwan #예리 #smtown #웬디 #redvelvetseulgi #girlgroup #redvelvetirene #슬기 #redvelvetjoy #kpopf4f #rv #korea #조이 #idol',\n",
       " '놀이 포니테일 아슬🐰💗🐻💛미치도록 예쁜 아슬❤❤❤❤❤❤❤--#redvelvet #레드벨벳 #Irene #아이린 #배주현 #Seulgi #슬기 #강슬기 #아이린슬기 #아슬 #놀이 #Naughty #포니테일',\n",
       " '놀이 포니테일 강슬기🐻💛시크,도도...댕댕미..!? 눈웃음 작렬☺--#redvelvet #레드벨벳 #Seulgi #슬기 #강슬기 #놀이 #Naughty #포니테일',\n",
       " \"Don't miss it Yerihan bang with Gugucon a.k.a Yeri Doyeon Naeun 8 a.m on DumDum studio channel.. ~ yun#yeri #kimkatty #kimyerim #yeriredvelvet #deardairy #redvelvet #irene #아이린 #seulgi #슬기 #wendy #웬디 #joy #조이 #yeri #예리 #레드벨벳 #김예리 #therevefestival #finaleday #yerimkimkyr #yerifacts #reveluv\",\n",
       " '151128 조이 1탄!💙(너무 많아서 나눠서 올릴게요)-©WNCJOY, Film903roll, 이령, Greenbell, Assist_Upload, Peach Fizz, macaron...———————#RedVelvet #Irene #Seulgi #Wendy #Joy #Yeri #아이린 #배주현 #슬기 #강슬기 #웬디 #손승완 #조이 #박수영 #예리 #김예림 #레드벨벳 #레드벨벳_아이린_슬기 #ReVeluv #Luvies #레베럽 #Baejuhyun #Kangseulgi #Shonseungwan #Parksooyeong #Kimyerim #RedVelvet_IRENE_SEULGI_Monster#6YearsWithRedVelvet #RedVelvet6thAnniversary #레드벨벳_6주년_대댕큐',\n",
       " '지수 개존예 ❤️ @sooyaaa__ #BLACKPINK #지수 #JISOO #JENNIE #블랙핑크지수 #블랙핑크제니 #레드벨벳 #아이린 #패션 #수지 #패션스타그램 #방탄소년단 #EXO #JISOO #사랑해 #블랙핑크 #슬기 #blackpinkjisoo #blackpinkjennie #제니 #김제니 #한소희 #태연 #청하 #이나은 #트와이스 #강다니엘 #차은우 #여행스타그램 #갓세븐 #followforfollowback',\n",
       " '지수 개존예 ❤️ @sooyaaa__ #BLACKPINK #지수 #JISOO #JENNIE #블랙핑크지수 #블랙핑크제니 #레드벨벳 #아이린 #패션 #수지 #패션스타그램 #방탄소년단 #EXO #JISOO #사랑해 #블랙핑크 #슬기 #blackpinkjisoo #blackpinkjennie #제니 #김제니 #한소희 #태연 #청하 #이나은 #트와이스 #강다니엘 #차은우 #여행스타그램 #갓세븐 #followforfollowback',\n",
       " '지수 개존예 ❤️ @sooyaaa__ #BLACKPINK #지수 #JISOO #JENNIE #블랙핑크지수 #블랙핑크제니 #레드벨벳 #아이린 #패션 #수지 #패션스타그램 #방탄소년단 #EXO #JISOO #사랑해 #블랙핑크 #슬기 #blackpinkjisoo #blackpinkjennie #제니 #김제니 #한소희 #태연 #청하 #이나은 #트와이스 #강다니엘 #차은우 #여행스타그램 #갓세븐 #followforfollowback',\n",
       " '⠀.女生帥起來真的沒有男生的事了🥺來來來 我們有饒起舌來帥到炸裂的孫彩瑛當然少不了堪稱人間扳手的星熊⭐️🐻在線用腹肌和炮轟炸你 融化你的心 讓你受不了（？還有反差萌黃恩妃在線尬舞 你說這還有男生的事嗎？重點是 她們奶起來更讓你們受不了ㅋㅋ.#梗圖 #媽媽木 #文星伊 #moonbyul #문별이 #문별 #紅貝貝 #康瑟琪 #seulgi #강슬기 #슬기 #星熊 #小女友 #黃恩妃 #sinb #황은비 #신비 #兔瓦斯 #孫彩瑛 #chaeyoung #손채영 #채영 ⠀',\n",
       " '#IRENE #아이린 #SEULGI #슬기 #baejoohyun #배주현 #redvelvet #seulrene #irene #renebaebae #redvelvetedit #ireneredvelvet #redvelvetkpop #redvelvetmonster #monster #redvelvetirene #redvelvetpsycho #seulgi #seulgiredvelvet #seulrene #redvelvetjoy #redvelvetyeri #redvelvetwendy #wendyredvelvet #joyredvelvet #yeriredvelvet',\n",
       " 'I really want to see seulgi cover more soloists and groups',\n",
       " \"Irene's stage presence is outstandingly beautiful ✨\",\n",
       " 'She has me like \"😩😍\" the whole time',\n",
       " '@renebaebae 💫',\n",
       " '♡when did u first start stanning red velvet?↳song : zimzalabim⠀⠀⠀⠀↳ ©️ to rightful owners ⠀⠀⠀⠀⠀⠀⠀⠀⠀♡⠀⠀⠀⠀⠀⠀⠀⠀⠀⠀⠀⠀꒰ #레드벨벳 #redvelvet #zimzalabim',\n",
       " '[ #레드벨벳 ]—❣️ Missing Wendy Day 227❣️—#q ; Which rv member would you like to have as a best friend?- 🍇—[ #redvelvet #레드벨벳 #irene #아이린 #baejoohyun #배주현 #seulgi #슬기 #kangseulgi #강슬기 #wendy #웬디 #sonseungwan #손승완 #joy #조이 #parksooyoung #박수영 #yeri #예리 #kimyerim #김예림 #reveluv #smtown #revelovies ]',\n",
       " \"ﾟ⊱ 𝑙𝑒𝑡'𝑠 ˽𝑔𝑒˖𝑡 𝑖𝑡! ↓ : ¨ ·.· ¨ : 𖧧 ˀˀ\\xa0 ۫۫̌͜✺᪲𝑑𝑜𝑛'𝑡 𝑏𝑒 𝑎𝑓𝑟𝑎𝑖𝑑` · .. · ` 〙↓︿ . ︿ . ︿ . ︿ . ︿ . ︿ . ︿\",\n",
       " '🍒i had this red velvet cd on my cd player so i decided to take a rv summery pic~ i looove the colors of this album and umpah umpah still slaps to this day♡ #kpop #redvelvet #레드벨벳 #seulgi #슬기 #wendy #웬디 #umpahumpah #revefestival #kpopphotocard #kpopalbum',\n",
       " \"SEULGI 💛 'Monster' TeaserORSEUND IRIS \\u2063#REDVELVET #레드벨벳 #レドベル #SEULGI #슬기 #スルギ\\u2063 #styleby_seulgi\",\n",
       " 'a partir de agora irei usar @/ wooyanx para assisnar meus posts. ~lia.#배주현 #baejuhyun #아이린 #irene #강슬기 #슬기 #seulgi #kangselgi #redvelvet #redvelvetedit #redvelvetkpop #레드벨벳 #레드벨벳슬기 #레드벨벳아이린 #ireneedit #seulgiedit #kpop #kpoedits #smentertainment #sm #smtown #edits #reveluv',\n",
       " \"I decided to not put filters over my videos anymore,cuz it's quite not natural and let's be honest we gotta enjoy the video in it's full quality\",\n",
       " \"Omg she's so sexy🥵🔥------------------------------------𝚏𝚘𝚕𝚕𝚘𝚠 @redvelvet.entx 𝚏𝚘𝚛 𝚖𝚘𝚛𝚎 𝚁𝚅 𝚌𝚘𝚗𝚝𝚎𝚗𝚝♥︎------------------------------------Tag🏷#kpopexlikes #seulrene #kangseulgi #조이 #reveluv #redvelvet #yerim #wendy #예리 #irene #seulgi #joohyun #웬디 #wenrene #kpopl4l #reveluvbaby #sm #joy #아이린 #powerup #wenseul #kpoplfl #슬기 #레드벨벳 #seungwan #joyri #seulmin #vrene #sooyoung #yeri\",\n",
       " 'Monster Irene & Seulgi cover by @kim_sumrina @min_seodeuk Chorus is coming soon 💕.....Follow @edope.kkk_  for more#kpopgirlgroup #kpop #kpopaddict #kpoplover #kpopdance #hiphop #kpopdancecover #kpopdancecovers #kpopdancer #kpopidol #monster #monsterireneseulgi #monsterdance #monsterdancecover #irene #seulgi #kpopredvelvet #redvelvetkpop #케이팝 #케이팝스타 #케이팝커버 #케이팝댄스 #케이팝댄스커버 #연습생 #몬스타 #아이린 #슬기 #레드벨벳 #레드벨벳슬기 #레드벨벳아이린',\n",
       " '겟뷰둥 천사인가요 요정인가요 ?',\n",
       " '[ೃ✧]─Song: Bad Boy─Group: Red Velvet•─────✧─────•#kpop #redvelvet #레드벨벳 #irene #아이린 #baejoohyun #배주현 #seulgi #슬기 #kangseulgi #강슬기 #wendy #웬디 #sonseungwan #손승완 #joy #조이 #parksooyoung #박수영 #yeri #예리 #kimyerim #김예림',\n",
       " '😀😀😀 WENDY 😀😀😀(the second slide was ib the version but with chuu😭)',\n",
       " 'asleep - the smiths 🎧-------#kpopfanart #fanart #illustration #draw #arts #kpopdrawing #redvelvetfanart #graphite #graphitedrawing #sketch #portraitdrawing #redvelvet #seulgi #kangseulgi #redvelvetseulgi #redvelvetfanart #artist #kpop #레드벨벳 #슬기 #강슬기 #스케치 #그림 #드로잉 #스케치북 #화가@hi_sseulgi @redvelvet.smtown',\n",
       " \"I don't think I'll ever be able to get over everything that is the Seulrene subunit 🙃🙃@redvelvet.smtown @smtown #kpop #kpopgg #kpopgirlgroup #kpopgirls #redvelvet #seulrene #seulgi #irene #smtown #subunit #kangseulgi #baejoohyun #monster #naughty #stage #dance #vocals #rv #레드벨벳 #슬기 #아이린 #강슬기 #뱆주현 #슬기아이린 #몬스터 #너티 #wendy #joy #yeri\",\n",
       " 'A bit late but #6yearswithredvelvet ! These girls mean the world to me and have a very special place in my heart!',\n",
       " '😂😂😂😂😂❤️......#redvelvet #irene #seulgi #wendy #joy #yeri #redvelvetirene #redvelvetseulgi #redvelvetwendy #redvelvetjoy #redvelvetyeri #레드벨벳 #아이린 #슬기 #웬디 #조이 #예리 #kpop #koreanpop #southkorea #love #followme #sm #smtown #사랑해요 #레드벨벳 #baejoohyun #kangseulgi #sonseungwan #parksooyoung #kimyerim',\n",
       " 'من طفش قعدت اخبص والله😭😂😂 조이 #JOY #IRENE\\xa0 #아이린\\xa0 #YERI #예리 #SEULGI #슬기 #웬디 #Wendy #레드벨벳 #RedVelvet',\n",
       " 'so lucky 😭——————----------#redvelvet #irene #seulgi #wendy #joy #yeri #레드벨벳 #아이린 #슬기 #웬디 #조이 #예리 #baejoohyun #kangseulgi #sonseungwan #parksooyoung #kimyerim #aseul #seulrene',\n",
       " \"#MONSTER by @redvelvet.smtown😈😈😈I’m a little Monster!~Please Tag Red Velvet!!!!!\\xa0...These girls attacked me so hard! #IreneandSeulgi are a strong duo and I'm here for it!!! Even #Naughty came through!\\xa0I danced as #Irene with a few twists!! And yes that back bending move HURTS!!!Which duet song was your favorite? Monster or Naughty?........#kpop #dancecover #kdancecover #kpopdancecover #kpopcoverdance #dancecover #kpopdance #kpopchoregraphy #redvelvetcomeback\\xa0 #redvelvetdancecover #twice #gidle #blackpink #itzynotshy #kpopgirlgroup #레드벨벳 #아이린 #슬기 #ateezinception #ateez #monsterdancecover #monsterredvelvet #monsterireneseulgi\",\n",
       " 'Red Velvet - Red Summer——————————————————————tags: #redvelvet #seulgi #yeri #joy #wendy #irene #레드벨벳 #슬기 #예리 #왠디 #아이린 #redvelvet好きな人と繋がりたい #reveluvと繋がりたい #kpop #kpopcollector #kpopcollection #photocardcollection #kpopaesthetic #redvelvetcollection #redvelvetphotocard',\n",
       " 'Irene got shocked  bc of the height difference 😂____#이시대_최고의여성_배주현\\xa0 #RedVelvet #레드벨벳 #Irene #Seulgi #Wendy #Joy #Yeri #아이린 #슬기 #원디 #조이 #예리 #ReveluvsWantsRVinPH\\xa0 #WeWillBeOkayWendy #GetWellSoonWendy #ReveluvsGotYourBack #BeWithWendyAlways #exo #sf9 #redvelvet #reveluv',\n",
       " 'Peek a boo🤩❤️----Follow me for more!❣️---- #kpopexlikes #seulrene #kangseulgi #조이 #reveluv #redvelvet #yerim #wendy #예리 #irene #seulgi #joohyun #웬디 #wenrene #kpopl4l #reveluvbaby #sm #joy #아이린 #powerup #wenseul #kpoplfl #슬기 #레드벨벳 #seungwan #joyri #seulmin #vrene #sooyoung #yeri',\n",
       " 'joy is more of an angel but she still looked princess here 🥰————🦋q; favorite thing about joy☕️a; how she can pull of anything no matter how ugly it is ————🧸 @redvelvet.girl_ssign the petition in my biostream monster ————[🏷]#kpopexlikes #seurene #kangseulgi #조이 #reveluv #redvelvet #yerim #wendy #예리 #irene #seulgi #joohyun #웬디 #wenrene #kpopl4l #reveluvbaby #sm #joy #아이린 #powerup #wenseul #kpoplfl #슬기 #레드벨벳 #seungwan #joyri #seulmin #vrene #sooyoung #yeri',\n",
       " '⁖ 🥀 ჻#SEULRENE : the qualityyy😭--⁖ 🥀 ⁘ 🌟 ⁘ ✨ ჻- --#seulrene #seulgi #irene #kangseulgi #baeirene #baejoohyun #seulreneedit #kpop #kpopedit #seulgixirene #irenexseulgi #redvelvet #rv #redvelvetedit #reveluv #rvedit #aestheticedit #aesthetic #아이린 #배아이린 #슬기 #캉슬기',\n",
       " '#redvelvet#irene#wendy#joy #seulgi#yeri#kpop #kangseulgi#kimyerim #baejoohyun#seungwan #parksooyoung#reveluv#아이린#슬기#배주현#웬디#손승완#박수영#조이#예리#김예림#레드벨벳#joohyunbae#ddeulgi#kpoplfl',\n",
       " '요즘너무 썬썬하다...',\n",
       " 'took me a while to find the energy for this 😔 but i finally did it so a round of aplause for me pls✨✨Tags: #digitaldrawing #digitalart #digital_portrait #digital_illustration #digitalartist #digitalpainting #digitalillustration #digitalportrait #fanart #диджиталпортрет #seulrene #seulgi #irene #seulrenefanart #monstermv #redvelvet #redvelvetirene #redvelvetseulgi #redvelvetfanart #semirealisticart #레드벨벳 #레드벨벳_아이린_슬기 #아이린 #슬기 #procreateart #procreate',\n",
       " '#𝙄𝙍𝙀𝙉𝙀 & #𝙎𝙀𝙐𝙇𝙂𝙄  𝙢𝙤𝙣𝙨𝙩𝙚𝙧 ac: i forgot',\n",
       " '🔥💛....Tags: #seulgi_is_seulgi #seulstagram#seulgi #redvelvet #kangseulgi #슬기 #ddeulgi #94liner #kpop #idol #wendy #joy #yeri #redvelvet #rvseulgi #kangseulgi #ddeulgi #miladyseulgi #reveluv #irene #charming #talented #lovely #girlcrush #94liner #kpop #idol',\n",
       " 'When you say “touch”, your lips separate but when you say “separate” your lips touch AHA',\n",
       " '#ireneseulgi 😈 #naughty-did i put this comparison up just to hide how awkward my hands look??? yes 🤧•••#redvelvet #irene #seulgi #kpopdancecover #kpop #레드벨벳 #레드벨벳아이린 #레드벨벳슬기 #아이린 #슬기 #dancecover #dance #댄스영상',\n",
       " 'Yeri-Red Velvet/예리-레드 벨벳#예리 #김예림 #김예리 #아이린 #배주현 #슬기 #강슬기 #웬디 #손승완 #조이 #박수영 #레드벨벳 #yeri #kimyerim #irene #baejuhyun #seulgi #kangseulgi #wendy #sonseungwan #joy #parksooyoung #redvelvet #ireneedit #seulgiedit #wendyedit #joyedit #yeriedit #ireneredvelvet #seulgiredvelvet',\n",
       " '#레드벨벳 - “we are b-side masters” notice how they didnt lie \\U0001f9ce\\u200d♂️qotd┊͙pick only one b-side to listen to for the rest of your life ;)—— —> follow @myangelyeri for morecr. to the rightful owner —— ◦∘#kpop #redvelvet #yeri #kpopl4l #redvelvetyeri #explorepage #fff #irene #reveluv #redvelvetedit #seulgi #wendy #joy #sonseungwan #kpoplfl #girlgroup #kangseulgi #baejoohyun #redvelvetkpop #wenseul #seulrene #kpopf4f #kpopfff #bts #아이린 #슬기 #웬디 #조이 #예리']"
      ]
     },
     "execution_count": 101,
     "metadata": {},
     "output_type": "execute_result"
    }
   ],
   "source": [
    "insta.crawling(\"슬기\", 100)"
   ]
  },
  {
   "cell_type": "code",
   "execution_count": null,
   "metadata": {},
   "outputs": [],
   "source": []
  }
 ],
 "metadata": {
  "hide_input": false,
  "kernelspec": {
   "display_name": "Python 3",
   "language": "python",
   "name": "python3"
  },
  "language_info": {
   "codemirror_mode": {
    "name": "ipython",
    "version": 3
   },
   "file_extension": ".py",
   "mimetype": "text/x-python",
   "name": "python",
   "nbconvert_exporter": "python",
   "pygments_lexer": "ipython3",
   "version": "3.7.1"
  },
  "varInspector": {
   "cols": {
    "lenName": 16,
    "lenType": 16,
    "lenVar": 40
   },
   "kernels_config": {
    "python": {
     "delete_cmd_postfix": "",
     "delete_cmd_prefix": "del ",
     "library": "var_list.py",
     "varRefreshCmd": "print(var_dic_list())"
    },
    "r": {
     "delete_cmd_postfix": ") ",
     "delete_cmd_prefix": "rm(",
     "library": "var_list.r",
     "varRefreshCmd": "cat(var_dic_list()) "
    }
   },
   "types_to_exclude": [
    "module",
    "function",
    "builtin_function_or_method",
    "instance",
    "_Feature"
   ],
   "window_display": false
  }
 },
 "nbformat": 4,
 "nbformat_minor": 4
}
